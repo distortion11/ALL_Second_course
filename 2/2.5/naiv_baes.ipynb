{
 "cells": [
  {
   "cell_type": "code",
   "execution_count": 28,
   "metadata": {},
   "outputs": [],
   "source": [
    "from sklearn.datasets import load_breast_cancer\n",
    "from sklearn.datasets import load_digits\n",
    "from sklearn.naive_bayes import BernoulliNB,MultinomialNB,GaussianNB\n",
    "from sklearn.model_selection import cross_val_score"
   ]
  },
  {
   "cell_type": "code",
   "execution_count": 23,
   "metadata": {},
   "outputs": [],
   "source": [
    "x_digits,y_d = load_digits(return_X_y=True)\n",
    "breast_cancer_x,breast_cancer_y = load_breast_cancer(return_X_y=True)\n"
   ]
  },
  {
   "cell_type": "code",
   "execution_count": 32,
   "metadata": {},
   "outputs": [
    {
     "name": "stdout",
     "output_type": "stream",
     "text": [
      "0.8241736304549674\n",
      "0.8703497369235531\n",
      "0.8069281956050759\n"
     ]
    }
   ],
   "source": [
    "print(cross_val_score(estimator = BernoulliNB(),X = x_digits,y = y_d).mean())\n",
    "print(cross_val_score(estimator = MultinomialNB(),X = x_digits,y = y_d).mean())\n",
    "print(cross_val_score(estimator = GaussianNB(),X = x_digits,y = y_d).mean())"
   ]
  },
  {
   "cell_type": "code",
   "execution_count": 33,
   "metadata": {},
   "outputs": [
    {
     "name": "stdout",
     "output_type": "stream",
     "text": [
      "0.6274181027790716\n",
      "0.8963204471355379\n",
      "0.9385188635305075\n"
     ]
    }
   ],
   "source": [
    "print(cross_val_score(estimator = BernoulliNB(),X = breast_cancer_x,y = breast_cancer_y).mean())\n",
    "print(cross_val_score(estimator = MultinomialNB(),X = breast_cancer_x,y = breast_cancer_y).mean())\n",
    "print(cross_val_score(estimator = GaussianNB(),X = breast_cancer_x,y = breast_cancer_y).mean())"
   ]
  },
  {
   "cell_type": "code",
   "execution_count": null,
   "metadata": {},
   "outputs": [],
   "source": []
  }
 ],
 "metadata": {
  "kernelspec": {
   "display_name": "Python 3",
   "language": "python",
   "name": "python3"
  },
  "language_info": {
   "codemirror_mode": {
    "name": "ipython",
    "version": 3
   },
   "file_extension": ".py",
   "mimetype": "text/x-python",
   "name": "python",
   "nbconvert_exporter": "python",
   "pygments_lexer": "ipython3",
   "version": "3.8.2"
  }
 },
 "nbformat": 4,
 "nbformat_minor": 4
}
